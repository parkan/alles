{
 "cells": [
  {
   "cell_type": "markdown",
   "metadata": {},
   "source": [
    "# ➡ git clone --recurse-submodules git@github.com:parkan/alles.git\n",
    "\n",
    "_but actually https://github.com/bwhitman/alles/_"
   ]
  },
  {
   "cell_type": "markdown",
   "metadata": {},
   "source": [
    "![alles 1977](ccc2023/alles-instrument-1200x900.jpg)\n",
    "\n",
    "_https://disquiet.com/2017/02/04/alles-machine-timara-jackson-talbert/_\n",
    "\n",
    "![amy chip](cc2023/amy.jpeg)\n",
    "\n",
    "_https://www.youtube.com/watch?v=l0wVHq_8Zic_\n",
    "\n",
    "![65xem](ccc023/65xem.jpg)\n",
    "\n",
    "_https://www.atari-computermuseum.de/65xem.htm_\n",
    "\n",
    "➡ Vintage Digital Synthesizer 1977 _https://www.youtube.com/watch?v=Rfeh1s4BOwI&t=47s_\n",
    "\n",
    "➡ Judy Jackson performs on the Alles Machine _https://www.youtube.com/watch?v=t-up62BP8WY&t=157s_\n",
    "\n",
    "![Partials](pics/partials.png)\n"
   ]
  },
  {
   "cell_type": "code",
   "execution_count": 2,
   "metadata": {},
   "outputs": [
    {
     "name": "stdout",
     "output_type": "stream",
     "text": [
      "Connected to 192.168.212.72 as local IP for multicast IF\n"
     ]
    }
   ],
   "source": [
    "import alles\n",
    "# alles.drums()"
   ]
  },
  {
   "cell_type": "code",
   "execution_count": 4,
   "metadata": {},
   "outputs": [],
   "source": [
    "alles.reset()\n",
    "alles.send(osc=0, wave=alles.SINE, freq=220, amp=1)"
   ]
  },
  {
   "cell_type": "code",
   "execution_count": 10,
   "metadata": {},
   "outputs": [],
   "source": [
    "alles.send(osc=0, wave=alles.SINE, note=57, vel=1)"
   ]
  },
  {
   "cell_type": "code",
   "execution_count": 11,
   "metadata": {},
   "outputs": [],
   "source": [
    "alles.send(osc=0,vel=1,note=50,wave=alles.PARTIALS,patch=5) "
   ]
  },
  {
   "cell_type": "code",
   "execution_count": 15,
   "metadata": {},
   "outputs": [],
   "source": [
    "import time\n",
    "alles.reset()\n",
    "for i in range(16):\n",
    "    alles.send(osc=i, wave=alles.SINE, freq=110+(i*80), vel=((16-i)/32.0))\n",
    "    time.sleep(0.5) # Sleep for 0.5 seconds"
   ]
  },
  {
   "cell_type": "code",
   "execution_count": 7,
   "metadata": {},
   "outputs": [],
   "source": [
    "alles.send(osc=0,wave=alles.SAW_DOWN,filter_freq=2500, resonance=5, filter_type=alles.FILTER_LPF)\n",
    "alles.send(osc=0, vel=1, note=40)"
   ]
  },
  {
   "cell_type": "code",
   "execution_count": 2,
   "metadata": {},
   "outputs": [],
   "source": [
    "alles.send(osc=0,wave=alles.SAW_DOWN,filter_freq=2500, resonance=5, filter_type=alles.FILTER_LPF)\n",
    "alles.send(osc=0, bp0=\"100,0.5,25,0\", bp0_target=alles.TARGET_FILTER_FREQ)\n",
    "alles.send(osc=0, vel=1, note=40)\n",
    "\n",
    "# bp0_target=alles.TARGET_FILTER_FREQ+alles.TARGET_RESONANCE"
   ]
  },
  {
   "cell_type": "code",
   "execution_count": null,
   "metadata": {},
   "outputs": [],
   "source": [
    "alles.send(osc=1, wave=alles.SAW_DOWN, freq=0.5, amp=0.75)\n",
    "alles.send(osc=0, wave=alles.PULSE, duty=0.5, freq=220, mod_source=1, mod_target=alles.TARGET_DUTY)\n",
    "alles.send(osc=0, vel=0.5)"
   ]
  },
  {
   "cell_type": "code",
   "execution_count": 13,
   "metadata": {},
   "outputs": [],
   "source": [
    "import time\n",
    "alles.reset()\n",
    "speakers = len(alles.sync())\n",
    "for i in range(16):\n",
    "    alles.send(osc=i, wave=alles.SINE, freq=110+(i*80), vel=((16-i)/32.0), client=i % speakers)\n",
    "    time.sleep(0.5) # Sleep for 0.5 seconds"
   ]
  },
  {
   "cell_type": "code",
   "execution_count": null,
   "metadata": {},
   "outputs": [],
   "source": [
    "alles.send(osc=0,vel=1,note=50,wave=alles.PARTIALS,patch=5) # a nice organ tone\n",
    "alles.send(osc=0,vel=1,note=55,wave=alles.PARTIALS,patch=5) # change the frequency\n",
    "alles.send(osc=0,vel=1,note=50,wave=alles.PARTIALS,patch=6,ratio=0.2) # ratio slows down the partial playback"
   ]
  },
  {
   "cell_type": "code",
   "execution_count": null,
   "metadata": {},
   "outputs": [],
   "source": [
    "# AM\n",
    "alles.send(osc=0,vel=1,note=50,wave=alles.PARTIALS,patch=6,feedback=0) # no bandwidth\n",
    "#alles.send(osc=0,vel=1,note=50,wave=alles.PARTIALS,patch=6,feedback=0.5) # more bandwidth"
   ]
  },
  {
   "cell_type": "code",
   "execution_count": null,
   "metadata": {},
   "outputs": [],
   "source": [
    "# FM\n",
    "alles.send(wave=alles.ALGO,osc=0,patch=0,note=50,vel=1)\n",
    "# alles.send(wave=alles.ALGO,osc=0,patch=1,note=50,vel=1)"
   ]
  },
  {
   "cell_type": "code",
   "execution_count": null,
   "metadata": {},
   "outputs": [],
   "source": [
    "# FM (from scratch)\n",
    "alles.reset()\n",
    "alles.send(wave=alles.SINE,ratio=0.2,amp=0.1,osc=0,bp0_target=alles.TARGET_AMP,bp0=\"1000,0,0,0\")\n",
    "alles.send(wave=alles.SINE,ratio=1,amp=1,osc=1)\n",
    "alles.send(wave=alles.ALGO,algorithm=0,algo_source=\"-1,-1,-1,-1,1,0\",osc=2)"
   ]
  },
  {
   "cell_type": "code",
   "execution_count": null,
   "metadata": {},
   "outputs": [],
   "source": [
    "alles.send(osc=2, note=60, vel=3)"
   ]
  },
  {
   "cell_type": "code",
   "execution_count": null,
   "metadata": {},
   "outputs": [],
   "source": [
    "alles.reset()\n",
    "alles.send(osc=0,wave=alles.KS,note=60,vel=1,feedback=0.996)"
   ]
  },
  {
   "cell_type": "code",
   "execution_count": null,
   "metadata": {},
   "outputs": [],
   "source": [
    "alles.send(osc=0, wave=alles.PCM, vel=1, patch=10) # cowbell\n",
    "alles.send(osc=0, wave=alles.PCM, vel=1, patch=10, note=70) # higher cowbell! "
   ]
  },
  {
   "cell_type": "code",
   "execution_count": 22,
   "metadata": {},
   "outputs": [
    {
     "ename": "KeyboardInterrupt",
     "evalue": "",
     "output_type": "error",
     "traceback": [
      "\u001b[0;31m---------------------------------------------------------------------------\u001b[0m",
      "\u001b[0;31mBlockingIOError\u001b[0m                           Traceback (most recent call last)",
      "File \u001b[0;32m~/alles/alles.py:144\u001b[0m, in \u001b[0;36msync\u001b[0;34m(count, delay_ms)\u001b[0m\n\u001b[1;32m    143\u001b[0m \u001b[39mtry\u001b[39;00m:\n\u001b[0;32m--> 144\u001b[0m     data, address \u001b[39m=\u001b[39m sock\u001b[39m.\u001b[39;49mrecvfrom(\u001b[39m1024\u001b[39;49m)\n\u001b[1;32m    145\u001b[0m     data \u001b[39m=\u001b[39m data\u001b[39m.\u001b[39mdecode(\u001b[39m'\u001b[39m\u001b[39mascii\u001b[39m\u001b[39m'\u001b[39m)\n",
      "\u001b[0;31mBlockingIOError\u001b[0m: [Errno 11] Resource temporarily unavailable",
      "\nDuring handling of the above exception, another exception occurred:\n",
      "\u001b[0;31mKeyboardInterrupt\u001b[0m                         Traceback (most recent call last)",
      "Cell \u001b[0;32mIn[22], line 18\u001b[0m\n\u001b[1;32m     16\u001b[0m freqs \u001b[38;5;241m=\u001b[39m [pytuning\u001b[38;5;241m.\u001b[39mutilities\u001b[38;5;241m.\u001b[39mnote_number_to_freq(i, modes[\u001b[38;5;241m0\u001b[39m][\u001b[38;5;124m'\u001b[39m\u001b[38;5;124mscale\u001b[39m\u001b[38;5;124m'\u001b[39m]) \u001b[38;5;28;01mfor\u001b[39;00m i \u001b[38;5;129;01min\u001b[39;00m \u001b[38;5;28mrange\u001b[39m(\u001b[38;5;241m69\u001b[39m,\u001b[38;5;241m77\u001b[39m)]\n\u001b[1;32m     17\u001b[0m \u001b[38;5;28;01mwhile\u001b[39;00m \u001b[38;5;28;01mTrue\u001b[39;00m:\n\u001b[0;32m---> 18\u001b[0m     nil \u001b[38;5;241m=\u001b[39m [alles\u001b[38;5;241m.\u001b[39msend(osc\u001b[38;5;241m=\u001b[39mindex, freq\u001b[38;5;241m=\u001b[39mfreqs[index], wave\u001b[38;5;241m=\u001b[39malles\u001b[38;5;241m.\u001b[39mSINE, vel\u001b[38;5;241m=\u001b[39mrandom\u001b[38;5;241m.\u001b[39muniform(\u001b[38;5;241m0\u001b[39m,\u001b[38;5;241m1\u001b[39m), client\u001b[38;5;241m=\u001b[39mrandom\u001b[38;5;241m.\u001b[39mrandrange(\u001b[38;5;241m0\u001b[39m,\u001b[38;5;28mlen\u001b[39m(alles\u001b[38;5;241m.\u001b[39msync()\u001b[38;5;241m.\u001b[39mkeys()))) \u001b[38;5;28;01mfor\u001b[39;00m index \u001b[38;5;129;01min\u001b[39;00m \u001b[38;5;28mrange\u001b[39m(\u001b[38;5;28mlen\u001b[39m(freqs))]\n\u001b[1;32m     19\u001b[0m     time\u001b[38;5;241m.\u001b[39msleep(\u001b[38;5;241m1\u001b[39m)\n",
      "Cell \u001b[0;32mIn[22], line 18\u001b[0m, in \u001b[0;36m<listcomp>\u001b[0;34m(.0)\u001b[0m\n\u001b[1;32m     16\u001b[0m freqs \u001b[38;5;241m=\u001b[39m [pytuning\u001b[38;5;241m.\u001b[39mutilities\u001b[38;5;241m.\u001b[39mnote_number_to_freq(i, modes[\u001b[38;5;241m0\u001b[39m][\u001b[38;5;124m'\u001b[39m\u001b[38;5;124mscale\u001b[39m\u001b[38;5;124m'\u001b[39m]) \u001b[38;5;28;01mfor\u001b[39;00m i \u001b[38;5;129;01min\u001b[39;00m \u001b[38;5;28mrange\u001b[39m(\u001b[38;5;241m69\u001b[39m,\u001b[38;5;241m77\u001b[39m)]\n\u001b[1;32m     17\u001b[0m \u001b[38;5;28;01mwhile\u001b[39;00m \u001b[38;5;28;01mTrue\u001b[39;00m:\n\u001b[0;32m---> 18\u001b[0m     nil \u001b[38;5;241m=\u001b[39m [alles\u001b[38;5;241m.\u001b[39msend(osc\u001b[38;5;241m=\u001b[39mindex, freq\u001b[38;5;241m=\u001b[39mfreqs[index], wave\u001b[38;5;241m=\u001b[39malles\u001b[38;5;241m.\u001b[39mSINE, vel\u001b[38;5;241m=\u001b[39mrandom\u001b[38;5;241m.\u001b[39muniform(\u001b[38;5;241m0\u001b[39m,\u001b[38;5;241m1\u001b[39m), client\u001b[38;5;241m=\u001b[39mrandom\u001b[38;5;241m.\u001b[39mrandrange(\u001b[38;5;241m0\u001b[39m,\u001b[38;5;28mlen\u001b[39m(\u001b[43malles\u001b[49m\u001b[38;5;241;43m.\u001b[39;49m\u001b[43msync\u001b[49m\u001b[43m(\u001b[49m\u001b[43m)\u001b[49m\u001b[38;5;241m.\u001b[39mkeys()))) \u001b[38;5;28;01mfor\u001b[39;00m index \u001b[38;5;129;01min\u001b[39;00m \u001b[38;5;28mrange\u001b[39m(\u001b[38;5;28mlen\u001b[39m(freqs))]\n\u001b[1;32m     19\u001b[0m     time\u001b[38;5;241m.\u001b[39msleep(\u001b[38;5;241m1\u001b[39m)\n",
      "File \u001b[0;32m~/alles/alles.py:144\u001b[0m, in \u001b[0;36msync\u001b[0;34m(count, delay_ms)\u001b[0m\n\u001b[1;32m    142\u001b[0m     last_sent \u001b[39m=\u001b[39m tic\n\u001b[1;32m    143\u001b[0m \u001b[39mtry\u001b[39;00m:\n\u001b[0;32m--> 144\u001b[0m     data, address \u001b[39m=\u001b[39m sock\u001b[39m.\u001b[39;49mrecvfrom(\u001b[39m1024\u001b[39;49m)\n\u001b[1;32m    145\u001b[0m     data \u001b[39m=\u001b[39m data\u001b[39m.\u001b[39mdecode(\u001b[39m'\u001b[39m\u001b[39mascii\u001b[39m\u001b[39m'\u001b[39m)\n\u001b[1;32m    146\u001b[0m     \u001b[39m#print(\"received %s from %s\" % (data, address))\u001b[39;00m\n",
      "\u001b[0;31mKeyboardInterrupt\u001b[0m: "
     ]
    }
   ],
   "source": [
    "import pytuning\n",
    "import random\n",
    "import time \n",
    "from pytuning import find_best_modes\n",
    "from pytuning.scales import create_euler_fokker_scale\n",
    "from pytuning.metrics import sum_p_q_for_all_intervals\n",
    "\n",
    "scale = create_euler_fokker_scale([3,5],[3,1])\n",
    "modes = find_best_modes(scale,\n",
    "                        num_tones=7,\n",
    "                        sort_order = ['sum_p_q_for_all_intervals'],\n",
    "                        num_scales=1,\n",
    "                        metric_function = sum_p_q_for_all_intervals)\n",
    "\n",
    "\n",
    "freqs = [pytuning.utilities.note_number_to_freq(i, modes[0]['scale']) for i in range(69,77)]\n",
    "while True:\n",
    "    nil = [alles.send(osc=index, freq=freqs[index], wave=alles.SINE, vel=random.uniform(0,1), client=random.randrange(0,len(alles.sync().keys()))) for index in range(len(freqs))]\n",
    "    time.sleep(1)\n",
    "    "
   ]
  },
  {
   "cell_type": "code",
   "execution_count": null,
   "metadata": {},
   "outputs": [],
   "source": [
    "alles.reset()"
   ]
  },
  {
   "cell_type": "code",
   "execution_count": 14,
   "metadata": {},
   "outputs": [
    {
     "data": {
      "text/plain": [
       "{0: {'reliability': 1.0,\n",
       "  'avg_rtt': 0.0,\n",
       "  'ipv4': 72,\n",
       "  'battery': ('unknown', 0)}}"
      ]
     },
     "execution_count": 14,
     "metadata": {},
     "output_type": "execute_result"
    }
   ],
   "source": [
    "alles.sync()"
   ]
  }
 ],
 "metadata": {
  "kernelspec": {
   "display_name": "Python 3.9.5 64-bit",
   "language": "python",
   "name": "python3"
  },
  "language_info": {
   "codemirror_mode": {
    "name": "ipython",
    "version": 3
   },
   "file_extension": ".py",
   "mimetype": "text/x-python",
   "name": "python",
   "nbconvert_exporter": "python",
   "pygments_lexer": "ipython3",
   "version": "3.9.5"
  },
  "orig_nbformat": 4,
  "vscode": {
   "interpreter": {
    "hash": "916dbcbb3f70747c44a77c7bcd40155683ae19c65e1c03b4aa3499c5328201f1"
   }
  }
 },
 "nbformat": 4,
 "nbformat_minor": 2
}
